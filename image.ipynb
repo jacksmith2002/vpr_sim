{
 "cells": [
  {
   "cell_type": "code",
   "execution_count": null,
   "metadata": {
    "vscode": {
     "languageId": "plaintext"
    }
   },
   "outputs": [],
   "source": [
    "import os\n",
    "from PIL import Image\n",
    "\n",
    "# Replace this with the path to your image folder\n",
    "image_folder = \"path/to/image/folder\"\n",
    "\n",
    "# Loop through all files in the folder\n",
    "for filename in os.listdir(image_folder):\n",
    "    # Check for common image file extensions\n",
    "    if filename.lower().endswith(('.jpg', '.jpeg', '.png', '.bmp', '.tiff')):\n",
    "        img_path = os.path.join(image_folder, filename)\n",
    "        \n",
    "        # Safely open the image in a \"with\" block\n",
    "        with Image.open(img_path) as img:\n",
    "            width, height = img.size\n",
    "            print(f\"{filename}: {width} x {height}\")"
   ]
  },
  {
   "cell_type": "code",
   "execution_count": null,
   "metadata": {
    "vscode": {
     "languageId": "plaintext"
    }
   },
   "outputs": [],
   "source": [
    "\n"
   ]
  }
 ],
 "metadata": {
  "language_info": {
   "name": "python"
  }
 },
 "nbformat": 4,
 "nbformat_minor": 2
}
