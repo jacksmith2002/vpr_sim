{
 "cells": [
  {
   "cell_type": "code",
   "execution_count": null,
   "metadata": {
    "vscode": {
     "languageId": "plaintext"
    }
   },
   "outputs": [],
   "source": [
    "import scipy.io\n",
    "\n",
    "mat_path = \"vd16_pitts30k_conv5_3_vlad_preL2_intra.mat\"\n",
    "mat_data = scipy.io.loadmat(mat_path)\n",
    "\n",
    "print(\"Available keys in .mat file:\", mat_data.keys())\n"
   ]
  }
 ],
 "metadata": {
  "language_info": {
   "name": "python"
  }
 },
 "nbformat": 4,
 "nbformat_minor": 2
}
