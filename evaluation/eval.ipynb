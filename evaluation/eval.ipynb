{
 "cells": [
  {
   "cell_type": "code",
   "execution_count": 1,
   "metadata": {},
   "outputs": [
    {
     "name": "stderr",
     "output_type": "stream",
     "text": [
      "/Users/jacksmith/miniconda3/envs/vpr_env/lib/python3.9/site-packages/torchvision/io/image.py:14: UserWarning: Failed to load image Python extension: 'dlopen(/Users/jacksmith/miniconda3/envs/vpr_env/lib/python3.9/site-packages/torchvision/image.so, 0x0006): Library not loaded: @rpath/libjpeg.9.dylib\n",
      "  Referenced from: <FB2FD416-6C4D-3621-B677-61F07C02A3C5> /Users/jacksmith/miniconda3/envs/vpr_env/lib/python3.9/site-packages/torchvision/image.so\n",
      "  Reason: tried: '/Users/jacksmith/miniconda3/envs/vpr_env/lib/python3.9/site-packages/torchvision/../../../libjpeg.9.dylib' (no such file), '/Users/jacksmith/miniconda3/envs/vpr_env/lib/python3.9/site-packages/torchvision/../../../libjpeg.9.dylib' (no such file), '/Users/jacksmith/miniconda3/envs/vpr_env/lib/python3.9/lib-dynload/../../libjpeg.9.dylib' (no such file), '/Users/jacksmith/miniconda3/envs/vpr_env/bin/../lib/libjpeg.9.dylib' (no such file)'If you don't plan on using image functionality from `torchvision.io`, you can ignore this warning. Otherwise, there might be something wrong with your environment. Did you have `libjpeg` or `libpng` installed before building `torchvision` from source?\n",
      "  warn(\n"
     ]
    }
   ],
   "source": [
    "import os\n",
    "import numpy as np\n",
    "import hnswlib\n",
    "import matplotlib.pyplot as plt\n",
    "import pandas as pd\n",
    "import evaluation.utils_sim as utils\n",
    "from tqdm import tqdm\n",
    "import ast\n",
    "\n",
    "os.makedirs(\"results\", exist_ok=True)\n",
    "\n",
    "# Paths to data\n",
    "mapped_imgs_dir = \"data/mapped_images\"\n",
    "random_imgs_dir = \"data/random_images\"\n",
    "mapped_meta_path = \"data/csv/mapped_metadata.csv\"\n",
    "random_meta_path = \"data/csv/random_metadata.csv\"\n",
    "\n",
    "# Load metadata\n",
    "mapped_meta = pd.read_csv(mapped_meta_path)\n",
    "random_meta = pd.read_csv(random_meta_path)\n",
    "\n",
    "# User-specified number of environments to test\n",
    "test_envs = 2  # Adjust as needed\n",
    "all_envs = list(set(random_meta[\"env_idx\"]))\n",
    "selected_envs = all_envs[:test_envs]\n",
    "\n",
    "# Filter data based on selected environments\n",
    "filtered_mapped_meta = mapped_meta[mapped_meta[\"env_idx\"].isin(selected_envs)]\n",
    "filtered_random_meta = random_meta[random_meta[\"env_idx\"].isin(selected_envs)]\n"
   ]
  },
  {
   "cell_type": "code",
   "execution_count": 2,
   "metadata": {},
   "outputs": [
    {
     "name": "stderr",
     "output_type": "stream",
     "text": [
      "/Users/jacksmith/miniconda3/envs/vpr_env/lib/python3.9/site-packages/torchvision/models/_utils.py:208: UserWarning: The parameter 'pretrained' is deprecated since 0.13 and may be removed in the future, please use 'weights' instead.\n",
      "  warnings.warn(\n",
      "/Users/jacksmith/miniconda3/envs/vpr_env/lib/python3.9/site-packages/torchvision/models/_utils.py:223: UserWarning: Arguments other than a weight enum or `None` for 'weights' are deprecated since 0.13 and may be removed in the future. The current behavior is equivalent to passing `weights=MobileNet_V3_Large_Weights.IMAGENET1K_V1`. You can also use `weights=MobileNet_V3_Large_Weights.DEFAULT` to get the most up-to-date weights.\n",
      "  warnings.warn(msg)\n",
      "/Users/jacksmith/miniconda3/envs/vpr_env/lib/python3.9/site-packages/torchvision/models/_utils.py:223: UserWarning: Arguments other than a weight enum or `None` for 'weights' are deprecated since 0.13 and may be removed in the future. The current behavior is equivalent to passing `weights=AlexNet_Weights.IMAGENET1K_V1`. You can also use `weights=AlexNet_Weights.DEFAULT` to get the most up-to-date weights.\n",
      "  warnings.warn(msg)\n"
     ]
    },
    {
     "name": "stdout",
     "output_type": "stream",
     "text": [
      "Generating feature vectors for mapped images...\n"
     ]
    },
    {
     "name": "stderr",
     "output_type": "stream",
     "text": [
      "Extracting mobilenet features: 100%|██████████| 160/160 [01:59<00:00,  1.34it/s]\n",
      "Extracting alexnet features: 100%|██████████| 160/160 [00:38<00:00,  4.19it/s]\n"
     ]
    },
    {
     "name": "stdout",
     "output_type": "stream",
     "text": [
      "Generating feature vectors for random images...\n"
     ]
    },
    {
     "name": "stderr",
     "output_type": "stream",
     "text": [
      "Extracting mobilenet features: 100%|██████████| 160/160 [02:23<00:00,  1.12it/s]\n",
      "Extracting alexnet features: 100%|██████████| 160/160 [00:31<00:00,  5.15it/s]\n"
     ]
    }
   ],
   "source": [
    "# Initialize models\n",
    "# models = [\"netvlad\", \"alexnet\", \"mobilenet\", \"cohog\"]\n",
    "models = [\"mobilenet\",  \"alexnet\"]\n",
    "\n",
    "# Initialize models once\n",
    "model_instances = {model: utils.load_model(model) for model in models}\n",
    "\n",
    "# Generate feature vectors for mapped images\n",
    "print(\"Generating feature vectors for mapped images...\")\n",
    "mapped_features = {}\n",
    "\n",
    "for model in models:\n",
    "    with tqdm(total=len(filtered_mapped_meta), desc=f\"Extracting {model} features\", dynamic_ncols=True) as pbar:\n",
    "        mapped_features[model] = utils.create_feature_vectors(\n",
    "            mapped_imgs_dir, filtered_mapped_meta, model, model_instances[model], pbar\n",
    "        )\n",
    "\n",
    "# Generate feature vectors for random images\n",
    "print(\"Generating feature vectors for random images...\")\n",
    "random_features = {}\n",
    "\n",
    "for model in models:\n",
    "    with tqdm(total=len(filtered_random_meta), desc=f\"Extracting {model} features\", dynamic_ncols=True) as pbar:\n",
    "        random_features[model] = utils.create_feature_vectors(\n",
    "            random_imgs_dir, filtered_random_meta, model, model_instances[model], pbar\n",
    "        )\n",
    "\n",
    "\n",
    "\n"
   ]
  },
  {
   "cell_type": "code",
   "execution_count": 3,
   "metadata": {},
   "outputs": [
    {
     "name": "stdout",
     "output_type": "stream",
     "text": [
      "\n",
      "🔄 Initializing HNSW for mobilenet...\n",
      "🔍 Adding 160 vectors to mobilenet HNSW index...\n",
      "✅ HNSW index created for mobilenet | Dimension: 960 | Elements: 160\n",
      "\n",
      "🔄 Initializing HNSW for alexnet...\n",
      "🔍 Adding 160 vectors to alexnet HNSW index...\n",
      "✅ HNSW index created for alexnet | Dimension: 256 | Elements: 160\n"
     ]
    }
   ],
   "source": [
    "\n",
    "# Initialize and populate HNSW indices\n",
    "hnsw_indices = utils.create_hnsw(mapped_features, models)"
   ]
  },
  {
   "cell_type": "code",
   "execution_count": 4,
   "metadata": {},
   "outputs": [
    {
     "name": "stdout",
     "output_type": "stream",
     "text": [
      "total queries: 160\n",
      "Evaluating mobilenet...\n"
     ]
    },
    {
     "name": "stderr",
     "output_type": "stream",
     "text": [
      "Testing mobilenet: 100%|██████████| 160/160 [00:00<00:00, 2608.33it/s]\n"
     ]
    },
    {
     "name": "stdout",
     "output_type": "stream",
     "text": [
      "total queries: 160\n",
      "Evaluating alexnet...\n"
     ]
    },
    {
     "name": "stderr",
     "output_type": "stream",
     "text": [
      "Testing alexnet: 100%|██████████| 160/160 [00:00<00:00, 4631.68it/s]\n"
     ]
    }
   ],
   "source": [
    "# Evaluate recall@n for k1 to k25\n",
    "results = {model: {f\"k{i}\": 0 for i in range(1, 26)} for model in models}\n",
    "\n",
    "for model in models:\n",
    "    total_queries = len(random_features[model])  # Set correctly per model\n",
    "    print(f\"total queries: {total_queries}\")\n",
    "    print(f\"Evaluating {model}...\")\n",
    "\n",
    "    # Extract the HNSW index and the mapping\n",
    "    hnsw, image_id_map = hnsw_indices[model]\n",
    "    id_to_image = {v: k for k, v in image_id_map.items()}  # Reverse mapping\n",
    "\n",
    "    # Wrap the query iteration with tqdm for progress tracking\n",
    "    for img_id, query_vector in tqdm(random_features[model].items(), total=total_queries, desc=f\"Testing {model}\"):\n",
    "\n",
    "        # Perform nearest neighbor search\n",
    "        indices, _ = hnsw.knn_query(query_vector, k=25)\n",
    "\n",
    "        # Convert retrieved integer IDs back to image filenames\n",
    "        retrieved_images = [id_to_image[i] for i in indices[0]]\n",
    "\n",
    "        # Extract valid neighbors\n",
    "        valid_neighbours_str = filtered_random_meta[filtered_random_meta[\"image_idx\"] == img_id][\"valid_neighbours\"].values[0]\n",
    "        correct_matches = set(valid_neighbours_str.split(\";\"))  # Convert to a set\n",
    "\n",
    "        # Evaluate recall@n\n",
    "        for k in range(1, 26):\n",
    "            if retrieved_images[k-1] in correct_matches:  # Found a correct match at position k\n",
    "                for j in range(k, 26):  # Increment recall for all k >= found position\n",
    "                    results[model][f\"k{j}\"] += 1\n",
    "                break  # Stop checking further, move to next image\n",
    "\n",
    "    # Normalize recall values\n",
    "    for k in range(1, 26):\n",
    "        results[model][f\"k{k}\"] /= total_queries  # Convert to recall percentage if needed\n"
   ]
  },
  {
   "cell_type": "code",
   "execution_count": 5,
   "metadata": {},
   "outputs": [
    {
     "data": {
      "image/png": "[encoded data removed]",
      "text/plain": [
       "<Figure size 1000x600 with 1 Axes>"
      ]
     },
     "metadata": {},
     "output_type": "display_data"
    }
   ],
   "source": [
    "# Plot recall@n\n",
    "plt.figure(figsize=(10, 6))\n",
    "for model in models:\n",
    "    recall_values = [results[model][f\"k{k}\"] for k in range(1, 26)]\n",
    "    plt.plot(range(1, 26), recall_values, label=model)\n",
    "\n",
    "plt.xlabel(\"k\")\n",
    "plt.ylabel(\"Recall@k\")\n",
    "plt.title(\"Recall@k for Different Models\")\n",
    "plt.legend()\n",
    "plt.grid(True)\n",
    "\n",
    "# Save the figure\n",
    "plt.savefig(\"results/recall_at_k.png\", dpi=300, bbox_inches='tight')\n",
    "\n",
    "# Optionally display the plot\n",
    "plt.show()"
   ]
  }
 ],
 "metadata": {
  "kernelspec": {
   "display_name": "vpr_env",
   "language": "python",
   "name": "python3"
  },
  "language_info": {
   "codemirror_mode": {
    "name": "ipython",
    "version": 3
   },
   "file_extension": ".py",
   "mimetype": "text/x-python",
   "name": "python",
   "nbconvert_exporter": "python",
   "pygments_lexer": "ipython3",
   "version": "3.9.21"
  }
 },
 "nbformat": 4,
 "nbformat_minor": 2
}
